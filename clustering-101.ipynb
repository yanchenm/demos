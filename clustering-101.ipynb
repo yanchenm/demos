{
 "cells": [
  {
   "cell_type": "markdown",
   "metadata": {},
   "source": [
    "# Clustering 101"
   ]
  },
  {
   "cell_type": "markdown",
   "metadata": {},
   "source": [
    "## What is clustering?\n",
    "\n",
    "> Clustering is a Machine Learning technique that involves the grouping of data points. Given a set of data points, we can use a clustering algorithm to classify each data point into a specific group. In theory, data points that are in the same group should have similar properties and/or features, while data points in different groups should have highly dissimilar properties and/or features. Clustering is a method of unsupervised learning and is a common technique for statistical data analysis used in many fields.\n",
    " - https://towardsdatascience.com/the-5-clustering-algorithms-data-scientists-need-to-know-a36d136ef68"
   ]
  },
  {
   "cell_type": "markdown",
   "metadata": {},
   "source": [
    "## K-Means\n",
    "\n",
    "### Getting Started\n",
    "\n",
    "This interactive exploration of the k-means algorithm relies on a few Python packages:\n",
    "\n",
    "- `numpy`\n",
    "- `scikit-learn`\n",
    "- `ipywidgets`\n",
    "- `bqplot`\n",
    "\n",
    "Go ahead and install any you're missing before proceeding."
   ]
  },
  {
   "cell_type": "code",
   "execution_count": 1,
   "metadata": {},
   "outputs": [],
   "source": [
    "import time\n",
    "import numpy as np\n",
    "\n",
    "import bqplot.pyplot as plt\n",
    "from bqplot import *\n",
    "\n",
    "from ipywidgets import HBox, VBox, IntSlider, Play, jslink, Button\n",
    "\n",
    "from sklearn.datasets.samples_generator import make_blobs\n",
    "from sklearn.metrics import pairwise_distances\n",
    "from sklearn.cluster import KMeans\n",
    "\n",
    "np.random.seed(0)"
   ]
  },
  {
   "cell_type": "markdown",
   "metadata": {},
   "source": [
    "### Data\n",
    "We can rely on scikit-learn's built in `make_blobs` function to generate some sample clustering data to experiment on."
   ]
  },
  {
   "cell_type": "code",
   "execution_count": 2,
   "metadata": {},
   "outputs": [],
   "source": [
    "data, actual = make_blobs(n_samples=300, centers=3, n_features=2, random_state=0, cluster_std=0.5)\n",
    "assigned_cluster = [0] * 300"
   ]
  },
  {
   "cell_type": "markdown",
   "metadata": {},
   "source": [
    "This produces data that is already nicely grouped. Starting with clean data like this can help us visualize how the algorithm works."
   ]
  },
  {
   "cell_type": "code",
   "execution_count": 3,
   "metadata": {},
   "outputs": [
    {
     "data": {
      "application/vnd.jupyter.widget-view+json": {
       "model_id": "07e5cda5cbdb44bb8f639225105c9671",
       "version_major": 2,
       "version_minor": 0
      },
      "text/plain": [
       "Figure(axes=[Axis(label='x', scale=LinearScale()), Axis(label='y', orientation='vertical', scale=LinearScale()…"
      ]
     },
     "metadata": {},
     "output_type": "display_data"
    }
   ],
   "source": [
    "sc_x = LinearScale()\n",
    "sc_y = LinearScale()\n",
    "\n",
    "c_ord = OrdinalColorScale(colors=['DodgerBlue', 'SeaGreen', 'OrangeRed', 'Yellow', 'HotPink', 'Black', 'Purple',\n",
    "                                  'orange', 'red', 'blue'])\n",
    "\n",
    "initial_data_plot = Scatter(x=data[:, 0], y=data[:, 1],\n",
    "                color=actual,\n",
    "                scales={'x': sc_x, 'y': sc_y, 'color': c_ord}, \n",
    "                default_size=10)\n",
    "\n",
    "ax_x = Axis(scale=sc_x, label='x')\n",
    "ax_y = Axis(scale=sc_y, orientation='vertical', label='y')\n",
    "ax_c = ColorAxis(scale=c_ord, label='Class', side='right', orientation='vertical')\n",
    "\n",
    "initial_fig = Figure(marks=[initial_data_plot], axes=[ax_x, ax_y, ax_c])\n",
    "initial_fig"
   ]
  },
  {
   "cell_type": "markdown",
   "metadata": {},
   "source": [
    "### The Algorithm\n",
    "\n"
   ]
  },
  {
   "cell_type": "markdown",
   "metadata": {},
   "source": [
    "#### Step 0: Initialize cluster centers\n",
    "\n",
    "We'll explore the details of this process later on, but for now, we'll pick out *k* data points from the dataset at random to serve as the initial centroid for each of our *k* clusters."
   ]
  },
  {
   "cell_type": "code",
   "execution_count": 4,
   "metadata": {},
   "outputs": [],
   "source": [
    "init_centroids = np.random.randint(0, 299, size=3)\n",
    "init_centroids = data[init_centroids]"
   ]
  },
  {
   "cell_type": "code",
   "execution_count": 5,
   "metadata": {
    "scrolled": false
   },
   "outputs": [
    {
     "data": {
      "application/vnd.jupyter.widget-view+json": {
       "model_id": "2595bedb9e4b4ab8a78a4e2d0e58eb7e",
       "version_major": 2,
       "version_minor": 0
      },
      "text/plain": [
       "Figure(axes=[Axis(label='x', scale=LinearScale()), Axis(label='y', orientation='vertical', scale=LinearScale()…"
      ]
     },
     "metadata": {},
     "output_type": "display_data"
    }
   ],
   "source": [
    "initial_centroid_plot = Scatter(x=init_centroids[:, 0], y=init_centroids[:, 1],\n",
    "                        colors=['Yellow'], marker='cross', \n",
    "                        stroke='black', stroke_width=0.5,\n",
    "                        scales={'x': sc_x, 'y': sc_y})\n",
    "\n",
    "no_assign_plot = Scatter(x=data[:, 0], y=data[:, 1],\n",
    "                color=[0] * 300,\n",
    "                scales={'x': sc_x, 'y': sc_y, 'color': c_ord}, \n",
    "                default_size=10)\n",
    "\n",
    "step_0_fig = Figure(marks=[no_assign_plot, initial_centroid_plot], axes=[ax_x, ax_y, ax_c])\n",
    "step_0_fig"
   ]
  },
  {
   "cell_type": "markdown",
   "metadata": {},
   "source": [
    "#### Step 1: Assign each data point to a centroid\n",
    "\n",
    "This is the first of our two iterative steps. Start by computing the Euclidean distance (i.e. $d(p, q) = \\sqrt{(q_1 - p_1)^2 + (q_2 - p_2)^2 + ... + (q_n - p_n)^2}$ ) from each data point to each of the centroids. We then 'assign' each data point to the cluster whose centroid is the closest."
   ]
  },
  {
   "cell_type": "code",
   "execution_count": 6,
   "metadata": {},
   "outputs": [],
   "source": [
    "def assign_centroid(data, centroids):\n",
    "    distances = pairwise_distances(data, centroids, metric='euclidean')\n",
    "    assignments = np.argmin(distances, axis=1)\n",
    "    \n",
    "    return assignments"
   ]
  },
  {
   "cell_type": "code",
   "execution_count": 7,
   "metadata": {},
   "outputs": [
    {
     "data": {
      "application/vnd.jupyter.widget-view+json": {
       "model_id": "71c89373fe264112b39a436e13a3f34a",
       "version_major": 2,
       "version_minor": 0
      },
      "text/plain": [
       "Figure(axes=[Axis(label='x', scale=LinearScale()), Axis(label='y', orientation='vertical', scale=LinearScale()…"
      ]
     },
     "metadata": {},
     "output_type": "display_data"
    }
   ],
   "source": [
    "assigned_cluster = assign_centroid(data, init_centroids)\n",
    "\n",
    "data_plot = Scatter(x=data[:, 0], y=data[:, 1],\n",
    "                color=assigned_cluster,\n",
    "                scales={'x': sc_x, 'y': sc_y, 'color': c_ord}, \n",
    "                default_size=10)\n",
    "\n",
    "step_1_fig = Figure(marks=[data_plot, initial_centroid_plot], axes=[ax_x, ax_y, ax_c])\n",
    "step_1_fig"
   ]
  },
  {
   "cell_type": "markdown",
   "metadata": {},
   "source": [
    "#### Step 2: Revise centroids\n",
    "\n",
    "The second of the iterative steps is to update the location of the centroids. The mean of the data points assigned to each cluster becomes the new centroid."
   ]
  },
  {
   "cell_type": "code",
   "execution_count": 8,
   "metadata": {},
   "outputs": [],
   "source": [
    "def revise_centroids(data, num, assignments):\n",
    "    new_centroids = []\n",
    "    \n",
    "    for i in range(num):\n",
    "        member_data = data[assignments == i, :]\n",
    "        centroid = member_data.mean(axis=0)\n",
    "        new_centroids.append(centroid)\n",
    "\n",
    "    return np.array(new_centroids)"
   ]
  },
  {
   "cell_type": "code",
   "execution_count": 9,
   "metadata": {},
   "outputs": [
    {
     "data": {
      "application/vnd.jupyter.widget-view+json": {
       "model_id": "3d267b0c0e50401196124f39ae78f7c6",
       "version_major": 2,
       "version_minor": 0
      },
      "text/plain": [
       "Figure(axes=[Axis(label='x', scale=LinearScale()), Axis(label='y', orientation='vertical', scale=LinearScale()…"
      ]
     },
     "metadata": {},
     "output_type": "display_data"
    }
   ],
   "source": [
    "centroids = revise_centroids(data, 3, assigned_cluster)\n",
    "\n",
    "updated_centroid_plot = Scatter(x=centroids[:, 0], y=centroids[:, 1],\n",
    "                        colors=['Yellow'], marker='cross', \n",
    "                        stroke='black', stroke_width=0.5,\n",
    "                        scales={'x': sc_x, 'y': sc_y})\n",
    "\n",
    "step_2_fig = Figure(marks=[data_plot, updated_centroid_plot], axes=[ax_x, ax_y, ax_c])\n",
    "step_2_fig"
   ]
  },
  {
   "cell_type": "markdown",
   "metadata": {},
   "source": [
    "#### Step 3: Repeat\n",
    "\n",
    "We will repeat steps 1 and 2 until the algorithm has converged. Convergence is achieved when the cluster assignments for each data point no longer change between iterations. Convergence of the k-means algorithm does not necessarily indicate the optimum solution."
   ]
  },
  {
   "cell_type": "markdown",
   "metadata": {},
   "source": [
    "#### All together"
   ]
  },
  {
   "cell_type": "code",
   "execution_count": 10,
   "metadata": {},
   "outputs": [],
   "source": [
    "time_interval = 3000\n",
    "\n",
    "step_slider = IntSlider(min=0, max=7, step=1, description='Step', value=0)\n",
    "\n",
    "anim_centroids = init_centroids\n",
    "anim_assignments = [0]*300\n",
    "\n",
    "anim_data_plot = Scatter(x=data[:, 0], y=data[:, 1],\n",
    "                color=[0]*300,\n",
    "                scales={'x': sc_x, 'y': sc_y, 'color': c_ord}, \n",
    "                default_size=10)\n",
    "\n",
    "anim_centroid_plot = Scatter(x=anim_centroids[:, 0], y=anim_centroids[:, 1],\n",
    "                        colors=['Yellow'], marker='cross', \n",
    "                        stroke='black', stroke_width=0.5,\n",
    "                        scales={'x': sc_x, 'y': sc_y})\n",
    "\n",
    "anim_label = Label(x=[0.1], y=[0.1], default_size=30, font_weight='bolder', colors=['orange'],\n",
    "                   text=['Data'], enable_move=True)\n",
    "\n",
    "anim_fig = Figure(marks=[anim_data_plot, anim_label], axes=[ax_x, ax_y, ax_c], animation_duration=int(time_interval*0.6),\n",
    "                  title='k-means (k=3)', min_aspect_ratio=1, max_aspect_ratio=1)\n",
    "\n",
    "\n",
    "def step_changed(change):\n",
    "    global anim_data_plot\n",
    "    global anim_fig\n",
    "    global anim_assignments\n",
    "    global anim_centroids\n",
    "    \n",
    "    val = step_slider.value\n",
    "    \n",
    "    if val == 0:    \n",
    "        anim_data_plot.color = [0]*300\n",
    "        anim_fig.marks = [anim_data_plot, anim_label]\n",
    "\n",
    "        anim_label.text = ['Data']\n",
    "    elif val == 1:\n",
    "        anim_data_plot.color = [0]*300    \n",
    "        anim_centroids = init_centroids\n",
    "\n",
    "        anim_centroid_plot.x = anim_centroids[:, 0]\n",
    "        anim_centroid_plot.y = anim_centroids[:, 1]\n",
    "\n",
    "        anim_fig.marks = [anim_data_plot, anim_label, anim_centroid_plot]\n",
    "\n",
    "        anim_label.text = ['Initialize centroids']\n",
    "    elif val == 2:\n",
    "        anim_centroids = init_centroids\n",
    "    \n",
    "        anim_assignments = assign_centroid(data, anim_centroids)\n",
    "        anim_data_plot.color = anim_assignments\n",
    "\n",
    "        anim_label.text = ['Assign clusters']\n",
    "    elif val in [3, 5, 7]:\n",
    "        anim_centroids = revise_centroids(data, 3, anim_assignments)\n",
    "    \n",
    "        anim_centroid_plot.x = anim_centroids[:, 0]\n",
    "        anim_centroid_plot.y = anim_centroids[:, 1]\n",
    "\n",
    "        anim_label.text = ['Update centroids']\n",
    "    elif val in [4, 6]:\n",
    "        anim_assignments = assign_centroid(data, anim_centroids)\n",
    "        anim_data_plot.color = anim_assignments\n",
    "\n",
    "        anim_label.text = ['Assign clusters']\n",
    "\n",
    "step_slider.observe(step_changed, 'value')\n",
    "\n",
    "play_button = Play(min=0, max=7, interval=time_interval)\n",
    "jslink((play_button, 'value'), (step_slider, 'value'))        "
   ]
  },
  {
   "cell_type": "code",
   "execution_count": 11,
   "metadata": {},
   "outputs": [
    {
     "data": {
      "application/vnd.jupyter.widget-view+json": {
       "model_id": "061e0ca88c254170a4286e7fde5b7f74",
       "version_major": 2,
       "version_minor": 0
      },
      "text/plain": [
       "VBox(children=(HBox(children=(Play(value=0, interval=3000, max=7), IntSlider(value=0, description='Step', max=…"
      ]
     },
     "metadata": {},
     "output_type": "display_data"
    }
   ],
   "source": [
    "VBox([HBox([play_button, step_slider]), anim_fig])"
   ]
  },
  {
   "cell_type": "markdown",
   "metadata": {},
   "source": [
    "### Initial Centroid Selection\n",
    "\n",
    "A key consideration when using k-means is the importance of the centroids we initialize the algorithm with. Not only will different initial centroids impact the number of iterations the algorithm will take to converge, it will also impact the quality of the clusters obtained at convergence.\n",
    "\n",
    "We can experiment with the impact of this selection by dragging the initial centroid positions in the following figure."
   ]
  },
  {
   "cell_type": "code",
   "execution_count": 12,
   "metadata": {
    "scrolled": false
   },
   "outputs": [],
   "source": [
    "sel_centroids = init_centroids\n",
    "sel_assignments = [0]*300\n",
    "\n",
    "sel_data_plot = Scatter(x=data[:, 0], y=data[:, 1],\n",
    "                    color=[0]*300,\n",
    "                    scales={'x': sc_x, 'y': sc_y, 'color': c_ord}, \n",
    "                    default_size=10)\n",
    "\n",
    "sel_centroid_plot = Scatter(x=sel_centroids[:, 0], y=sel_centroids[:, 1],\n",
    "                            colors=['Yellow'], marker='cross', \n",
    "                            stroke='black', stroke_width=0.5,\n",
    "                            scales={'x': sc_x, 'y': sc_y},\n",
    "                            enable_move=True)\n",
    "\n",
    "sel_label_1 = Label(x=[0.1], y=[0.2], default_size=12, font_weight='bolder', colors=['orange'],\n",
    "                       text=['0: {}'.format(sel_centroids[0])], enable_move=True)\n",
    "\n",
    "sel_label_2 = Label(x=[0.1], y=[0.15], default_size=12, font_weight='bolder', colors=['orange'],\n",
    "                       text=['1: {}'.format(sel_centroids[1])], enable_move=True)\n",
    "\n",
    "sel_label_3 = Label(x=[0.1], y=[0.1], default_size=12, font_weight='bolder', colors=['orange'],\n",
    "                       text=['2: {}'.format(sel_centroids[2])], enable_move=True)\n",
    "\n",
    "sel_fig = Figure(marks=[sel_data_plot, sel_centroid_plot, sel_label_1, sel_label_2, sel_label_3], \n",
    "                     axes=[ax_x, ax_y, ax_c], animation_duration=1000,\n",
    "                      title='k-means (k=3)', min_aspect_ratio=1, max_aspect_ratio=1)\n",
    "\n",
    "\n",
    "def update_cent(change=None):\n",
    "    sel_centroids[:, 0] = sel_centroid_plot.x\n",
    "    sel_centroids[:, 1] = sel_centroid_plot.y\n",
    "    \n",
    "    sel_label_1.text = ['0: {}'.format(sel_centroids[0])]\n",
    "    sel_label_2.text = ['1: {}'.format(sel_centroids[1])]\n",
    "    sel_label_3.text = ['2: {}'.format(sel_centroids[2])]\n",
    "    \n",
    "sel_centroid_plot.observe(update_cent, names=['x'])\n",
    "sel_centroid_plot.observe(update_cent, names=['y'])"
   ]
  },
  {
   "cell_type": "code",
   "execution_count": 13,
   "metadata": {},
   "outputs": [],
   "source": [
    "start_button = Button(description='Start')\n",
    "reset_button = Button(description='Reset', disabled=True)\n",
    "\n",
    "def reset(change):\n",
    "    global sel_data_plot\n",
    "    global sel_fig\n",
    "    global sel_assignments\n",
    "    global sel_centroids\n",
    "    \n",
    "    sel_centroids = init_centroids\n",
    "    sel_assignments = [0]*300\n",
    "\n",
    "    sel_data_plot.color = [0]*300\n",
    "    sel_centroid_plot.x = sel_centroids[:, 0]\n",
    "    sel_centroid_plot.y = sel_centroids[:, 1]\n",
    "    \n",
    "    sel_fig.marks = [sel_data_plot, sel_centroid_plot, sel_label_1, sel_label_2, sel_label_3]\n",
    "    \n",
    "    reset_button.disabled = True\n",
    "    start_button.disabled = False\n",
    "    sel_centroid_plot.enable_move = True\n",
    "\n",
    "def start(change):\n",
    "    global sel_data_plot\n",
    "    global sel_fig\n",
    "    global sel_assignments\n",
    "    global sel_centroids\n",
    "    \n",
    "    start_button.disabled = True\n",
    "    \n",
    "    sel_centroid_plot.enable_move = False    \n",
    "    prev_assignments = None\n",
    "    \n",
    "    sel_label_4 = Label(x=[0.1], y=[0.15], default_size=18, font_weight='bolder', colors=['orange'], enable_move=True)\n",
    "    \n",
    "    sel_fig.marks = [sel_data_plot, sel_centroid_plot, sel_label_4]\n",
    "    \n",
    "    for itr in range(100):\n",
    "        sel_label_4.text = ['Iteration {}'.format(itr+1)]\n",
    "        \n",
    "        sel_assignments = assign_centroid(data, sel_centroids)\n",
    "        sel_data_plot.color = sel_assignments\n",
    "        \n",
    "        sel_centroids = revise_centroids(data, 3, sel_assignments)        \n",
    "        sel_centroid_plot.x = sel_centroids[:, 0]\n",
    "        sel_centroid_plot.y = sel_centroids[:, 1]\n",
    "        \n",
    "        if prev_assignments is not None and (prev_assignments == sel_assignments).all():\n",
    "            break\n",
    "            \n",
    "        prev_assignments = sel_assignments[:]\n",
    "        time.sleep(1.2)\n",
    "        \n",
    "    reset_button.disabled = False\n",
    "        \n",
    "start_button.on_click(start)\n",
    "reset_button.on_click(reset)"
   ]
  },
  {
   "cell_type": "code",
   "execution_count": 14,
   "metadata": {
    "scrolled": false
   },
   "outputs": [
    {
     "data": {
      "application/vnd.jupyter.widget-view+json": {
       "model_id": "27b816c261da4244ae605ad87ea484cb",
       "version_major": 2,
       "version_minor": 0
      },
      "text/plain": [
       "VBox(children=(Figure(animation_duration=1000, axes=[Axis(label='x', scale=LinearScale()), Axis(label='y', ori…"
      ]
     },
     "metadata": {},
     "output_type": "display_data"
    }
   ],
   "source": [
    "VBox([sel_fig, HBox([start_button, reset_button])])"
   ]
  },
  {
   "cell_type": "markdown",
   "metadata": {},
   "source": [
    "### K-means++\n",
    "\n",
    "There have been many studies done on algorithms to select the appropriate initial clusters for k-means. We'll explore one such method that is known to generally perform well in balancing computational efficiency and clustering result."
   ]
  },
  {
   "cell_type": "code",
   "execution_count": 15,
   "metadata": {},
   "outputs": [],
   "source": [
    "time_interval = 3000\n",
    "sc_opacity = LinearScale()\n",
    "\n",
    "km_step_slider = IntSlider(min=0, max=6, step=1, description='Step', value=0)\n",
    "\n",
    "km_centroids = np.array([])\n",
    "\n",
    "km_data_plot = Scatter(x=data[:, 0], y=data[:, 1],\n",
    "                color=[0]*300,\n",
    "                scales={'x': sc_x, 'y': sc_y, 'color': c_ord, 'opacity': sc_opacity}, \n",
    "                default_size=10)\n",
    "\n",
    "km_centroid_plot = Scatter(x=None, y=None,\n",
    "                        colors=['Yellow'], marker='cross', \n",
    "                        stroke='black', stroke_width=0.5,\n",
    "                        scales={'x': sc_x, 'y': sc_y})\n",
    "\n",
    "km_label = Label(x=[0.1], y=[0.1], default_size=18, font_weight='bolder', colors=['orange'],\n",
    "                   text=['Data'], enable_move=True)\n",
    "\n",
    "km_fig = Figure(marks=[km_data_plot, km_label], axes=[ax_x, ax_y, ax_c], animation_duration=int(time_interval*0.6),\n",
    "                  title='k-means (k=3)', min_aspect_ratio=1, max_aspect_ratio=1)\n",
    "\n",
    "\n",
    "def km_step_changed(change):\n",
    "    global km_data_plot\n",
    "    global km_fig\n",
    "    global km_assignments\n",
    "    global km_centroids\n",
    "    \n",
    "    val = km_step_slider.value\n",
    "    distances = []\n",
    "    \n",
    "    if val == 0:    \n",
    "        km_centroids = np.array([])\n",
    "        km_data_plot.color = [0]*300\n",
    "        km_fig.marks = [km_data_plot, km_label]\n",
    "\n",
    "        anim_label.text = ['Data']\n",
    "    elif val == 1:\n",
    "        point = np.random.randint(0, 299, size=1)\n",
    "        point = data[point]\n",
    "        km_centroids = point\n",
    "        \n",
    "        km_data_plot.color = [0]*300\n",
    "\n",
    "        km_centroid_plot.x = km_centroids[:, 0]\n",
    "        km_centroid_plot.y = km_centroids[:, 1]\n",
    "\n",
    "        km_fig.marks = [km_data_plot, km_label, km_centroid_plot]\n",
    "\n",
    "        km_label.text = ['Randomly select point']\n",
    "    elif val == 2:\n",
    "        distances = pairwise_distances(data, km_centroids[0:1], metric='euclidean').flatten()**2\n",
    "        weight = distances/sum(distances)\n",
    "    \n",
    "        km_data_plot.default_opacity = weight\n",
    "    elif val in [3, 5, 7]:\n",
    "        anim_centroids = revise_centroids(data, 3, anim_assignments)\n",
    "    \n",
    "        anim_centroid_plot.x = anim_centroids[:, 0]\n",
    "        anim_centroid_plot.y = anim_centroids[:, 1]\n",
    "\n",
    "        anim_label.text = ['Update centroids']\n",
    "    elif val in [4, 6]:\n",
    "        anim_assignments = assign_centroid(data, anim_centroids)\n",
    "        anim_data_plot.color = anim_assignments\n",
    "\n",
    "        anim_label.text = ['Assign clusters']\n",
    "\n",
    "km_step_slider.observe(km_step_changed, 'value')\n",
    "\n",
    "km_play_button = Play(min=0, max=6, interval=time_interval)\n",
    "jslink((km_play_button, 'value'), (km_step_slider, 'value'))        "
   ]
  },
  {
   "cell_type": "code",
   "execution_count": 16,
   "metadata": {},
   "outputs": [
    {
     "data": {
      "application/vnd.jupyter.widget-view+json": {
       "model_id": "45c3a670908c4adea197801461d4af65",
       "version_major": 2,
       "version_minor": 0
      },
      "text/plain": [
       "VBox(children=(HBox(children=(Play(value=0, interval=3000, max=6), IntSlider(value=0, description='Step', max=…"
      ]
     },
     "metadata": {},
     "output_type": "display_data"
    }
   ],
   "source": [
    "VBox([HBox([km_play_button, km_step_slider]), km_fig])"
   ]
  },
  {
   "cell_type": "markdown",
   "metadata": {},
   "source": [
    "### How many clusters?\n",
    "\n",
    "In our case, the number of clusters for our k-means model to create is visually obvious, but for most real-world clustering tasks, this will not be true. Let's investigate how we can systematically determine the number of clusters to pick for a dataset."
   ]
  },
  {
   "cell_type": "markdown",
   "metadata": {},
   "source": [
    "#### Scikit-Learn\n",
    "\n",
    "We can utilize scikit-learn's built in KMeans algorithm."
   ]
  },
  {
   "cell_type": "code",
   "execution_count": 17,
   "metadata": {},
   "outputs": [],
   "source": [
    "kmeans = []\n",
    "heterogeneity = []\n",
    "\n",
    "for i in range(2, 11):\n",
    "    kmeans.append(KMeans(n_clusters=i, init='k-means++',\n",
    "                         random_state=0, n_jobs=-1).fit(data))\n",
    "    \n",
    "    heterogeneity.append(kmeans[i-2].inertia_)"
   ]
  },
  {
   "cell_type": "code",
   "execution_count": 19,
   "metadata": {},
   "outputs": [
    {
     "data": {
      "application/vnd.jupyter.widget-view+json": {
       "model_id": "a5f5514fc45e417d8586306032c7b0fb",
       "version_major": 2,
       "version_minor": 0
      },
      "text/plain": [
       "HBox(children=(Figure(axes=[Axis(label='k', scale=LinearScale()), Axis(label='Heterogeneity', orientation='ver…"
      ]
     },
     "metadata": {},
     "output_type": "display_data"
    }
   ],
   "source": [
    "sc_x_2 = LinearScale()\n",
    "sc_y_2 = LinearScale()\n",
    "\n",
    "ax_x_2 = Axis(scale=sc_x_2, label='k')\n",
    "ax_y_2 = Axis(scale=sc_y, orientation='vertical', label='Heterogeneity')\n",
    "\n",
    "hetero_plot = Scatter(x=[2, 3, 4, 5, 6, 7, 8, 9, 10],\n",
    "                      y=heterogeneity,\n",
    "                      colors=['DodgerBlue'],\n",
    "                      scales={'x': sc_x_2, 'y': sc_y_2},\n",
    "                      interactions={'click': 'select'},\n",
    "                      selected_style={'opacity': 1.0, 'stroke': 'Red', 'fill': 'DarkOrange'},\n",
    "                      unselected_style={'opacity': 0.5})\n",
    "\n",
    "hetero_fig = Figure(marks=[hetero_plot], axes=[ax_x_2, ax_y_2],\n",
    "                       min_aspect_ratio=1, max_aspect_ratio=1,\n",
    "                       title='Heterogeneity vs. k')\n",
    "\n",
    "hetero_plot.selected = [1]\n",
    "\n",
    "hetero_data_plot = Scatter(x=data[:, 0], y=data[:, 1],\n",
    "                    color=kmeans[hetero_plot.selected[0]].labels_,\n",
    "                    scales={'x': sc_x, 'y': sc_y, 'color': c_ord}, \n",
    "                    default_size=10)\n",
    "\n",
    "hetero_centroid_plot = Scatter(x=None, \n",
    "                               y=None,\n",
    "                            colors=['Yellow'], marker='cross', \n",
    "                            stroke='black', stroke_width=0.5,\n",
    "                            scales={'x': sc_x, 'y': sc_y})\n",
    "\n",
    "def on_select(self, target):\n",
    "    hetero_data_plot.color = [0]*300 if hetero_plot.selected == None else kmeans[hetero_plot.selected[0]].labels_\n",
    "    hetero_centroid_plot.x = None if hetero_plot.selected == None else kmeans[hetero_plot.selected[0]].cluster_centers_[:, 0]\n",
    "    hetero_centroid_plot.x = None if hetero_plot.selected == None else kmeans[hetero_plot.selected[0]].cluster_centers_[:, 1]\n",
    "\n",
    "    \n",
    "hetero_plot.on_element_click(on_select)\n",
    "\n",
    "hetero_data_fig = Figure(marks=[hetero_data_plot, hetero_centroid_plot], axes=[ax_x, ax_y, ax_c],\n",
    "                       min_aspect_ratio=1, max_aspect_ratio=1,\n",
    "                       title='Data', animation_duration=100)\n",
    "\n",
    "HBox([hetero_fig, hetero_data_fig])"
   ]
  },
  {
   "cell_type": "code",
   "execution_count": null,
   "metadata": {},
   "outputs": [],
   "source": []
  },
  {
   "cell_type": "code",
   "execution_count": null,
   "metadata": {},
   "outputs": [],
   "source": []
  }
 ],
 "metadata": {
  "kernelspec": {
   "display_name": "Python 3",
   "language": "python",
   "name": "python3"
  },
  "language_info": {
   "codemirror_mode": {
    "name": "ipython",
    "version": 3
   },
   "file_extension": ".py",
   "mimetype": "text/x-python",
   "name": "python",
   "nbconvert_exporter": "python",
   "pygments_lexer": "ipython3",
   "version": "3.7.3"
  }
 },
 "nbformat": 4,
 "nbformat_minor": 2
}
